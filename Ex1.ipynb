{
 "cells": [
  {
   "cell_type": "markdown",
   "metadata": {},
   "source": [
    "# Lab exercise\n",
    "\n",
    "Author: Tianyi Wang\n",
    "\n",
    "Also avaliable on my github: https://github.com/wtyqqq/DatascienceProgramming"
   ]
  },
  {
   "cell_type": "markdown",
   "metadata": {},
   "source": [
    "## Problem 1\n",
    "有四个数字: 1. 2. 3. 4,能组成多少个互不相同且无重复数字的三位数?各是多少?"
   ]
  },
  {
   "cell_type": "code",
   "execution_count": 32,
   "metadata": {},
   "outputs": [],
   "source": [
    "from copy import deepcopy\n",
    "\n",
    "\n",
    "def getNumber(TargetNum,NowNum,myList):\n",
    "    global counts\n",
    "    if TargetNum > NowNum:\n",
    "        for i in range(1,5):\n",
    "            if i not in myList:\n",
    "                nextList=deepcopy(myList)\n",
    "                nextList.append(i)\n",
    "                getNumber(TargetNum,NowNum+1,nextList)\n",
    "    elif TargetNum==NowNum:\n",
    "        for i in myList:\n",
    "            print(i,end=\"\")\n",
    "        print(\",\",end=\"\")\n",
    "        counts+=1"
   ]
  },
  {
   "cell_type": "code",
   "execution_count": 34,
   "metadata": {},
   "outputs": [
    {
     "name": "stdout",
     "output_type": "stream",
     "text": [
      "The numbers are:  1234,1243,1324,1342,1423,1432,2134,2143,2314,2341,2413,2431,3124,3142,3214,3241,3412,3421,4123,4132,4213,4231,4312,4321,\n",
      "total Number: 24\n"
     ]
    }
   ],
   "source": [
    "counts=0\n",
    "print(\"The numbers are: \",end=\" \")\n",
    "getNumber(4,0,[])\n",
    "print(\"\")\n",
    "print(\"total Number:\",counts)"
   ]
  },
  {
   "cell_type": "markdown",
   "metadata": {},
   "source": [
    "## Problem 2\n",
    "创建一个prod3()函数，以三个整数为参数，返回三者的乘积。"
   ]
  },
  {
   "cell_type": "code",
   "execution_count": 35,
   "metadata": {},
   "outputs": [],
   "source": [
    "def prod3(x1,x2,x3):\n",
    "    return x1*x2*x3"
   ]
  },
  {
   "cell_type": "code",
   "execution_count": 36,
   "metadata": {},
   "outputs": [
    {
     "data": {
      "text/plain": [
       "80"
      ]
     },
     "execution_count": 36,
     "metadata": {},
     "output_type": "execute_result"
    }
   ],
   "source": [
    "prod3(4,2,10)"
   ]
  },
  {
   "cell_type": "markdown",
   "metadata": {},
   "source": [
    "## Problem 3\n",
    "创建一个quadProd3()函数，参数为三个整数，返回三个数的平方的乘积。此函数必须同时使用prod3()和square()"
   ]
  },
  {
   "cell_type": "code",
   "execution_count": 37,
   "metadata": {},
   "outputs": [],
   "source": [
    "def quadProd3(x1,x2,x3):\n",
    "    return (x1**2)*(x2**2)*(x3**2)"
   ]
  },
  {
   "cell_type": "code",
   "execution_count": 38,
   "metadata": {},
   "outputs": [
    {
     "data": {
      "text/plain": [
       "6400"
      ]
     },
     "execution_count": 38,
     "metadata": {},
     "output_type": "execute_result"
    }
   ],
   "source": [
    "quadProd3(2,4,10)"
   ]
  },
  {
   "cell_type": "markdown",
   "metadata": {},
   "source": [
    "## Problem 4\n",
    "一个人的BMI是根据以下公式计算的: BMI =体重/身高**2\n",
    "\n",
    "构建一个名为bmi(weight, height)的函数，该函数将-个人的体重和身高作为参数并返回该人的BMI。为此功能创建测试。\n"
   ]
  },
  {
   "cell_type": "code",
   "execution_count": 39,
   "metadata": {},
   "outputs": [],
   "source": [
    "def bmi(weight,height):\n",
    "    return weight/height**2"
   ]
  },
  {
   "cell_type": "code",
   "execution_count": 42,
   "metadata": {},
   "outputs": [
    {
     "data": {
      "text/plain": [
       "24.221453287197235"
      ]
     },
     "execution_count": 42,
     "metadata": {},
     "output_type": "execute_result"
    }
   ],
   "source": [
    "bmi(70,1.70)"
   ]
  },
  {
   "cell_type": "markdown",
   "metadata": {},
   "source": [
    "## Problem 5\n",
    "有几个公式可以根据一个人的BMI来预测-个人的体脂百分比。\n",
    "其中之一如下: \n",
    "CG= 1.294* BMI+ 0.2\\*年龄- 11.4\\*性别- 0.8\n",
    "\n",
    "构建一个bodyFat()函数，给定一个人的身高、 体重、年龄和性别(男性为0,女性为1)，返回其体脂百分比的估计值。此函数必须使用之前实现的bmi()函数。\n"
   ]
  },
  {
   "cell_type": "code",
   "execution_count": 43,
   "metadata": {},
   "outputs": [],
   "source": [
    "def bodyFat(weight,height,age,sex):\n",
    "    return 1.294*bmi(weight,height)+0.2*age-11.4*sex-0,8"
   ]
  },
  {
   "cell_type": "markdown",
   "metadata": {},
   "source": [
    "## Problem 6\n",
    "\n",
    "创建intervalPlus()函数，给定三个数字a、b和x，检查x是否小于a和b,大于a和b，或者在a和b之间。第一种情况下返回-1，第二情况下返回1，,在第三情况下返回0。\n"
   ]
  },
  {
   "cell_type": "code",
   "execution_count": 45,
   "metadata": {},
   "outputs": [],
   "source": [
    "def intervalPlus(a,b,x):\n",
    "    bnum=max(a,b)\n",
    "    lnum=min(a,b)\n",
    "    if x < lnum:\n",
    "        return -1\n",
    "    elif x>bnum:\n",
    "        return 1\n",
    "    else:\n",
    "        return 0"
   ]
  },
  {
   "cell_type": "code",
   "execution_count": 48,
   "metadata": {},
   "outputs": [
    {
     "data": {
      "text/plain": [
       "-1"
      ]
     },
     "execution_count": 48,
     "metadata": {},
     "output_type": "execute_result"
    }
   ],
   "source": [
    "intervalPlus(2,8,-12)"
   ]
  },
  {
   "cell_type": "markdown",
   "metadata": {},
   "source": [
    "## Problem 7\n",
    "1-10阶乘"
   ]
  },
  {
   "cell_type": "code",
   "execution_count": 55,
   "metadata": {},
   "outputs": [],
   "source": [
    "def caculate(nowNum,x):\n",
    "    if x==1:\n",
    "        return nowNum\n",
    "    return caculate(nowNum*x,x-1)"
   ]
  },
  {
   "cell_type": "code",
   "execution_count": 56,
   "metadata": {},
   "outputs": [],
   "source": [
    "def mainCaculate():\n",
    "    for i in range(1,11):\n",
    "        print(caculate(1,i))"
   ]
  },
  {
   "cell_type": "code",
   "execution_count": 57,
   "metadata": {},
   "outputs": [
    {
     "name": "stdout",
     "output_type": "stream",
     "text": [
      "1\n",
      "2\n",
      "6\n",
      "24\n",
      "120\n",
      "720\n",
      "5040\n",
      "40320\n",
      "362880\n",
      "3628800\n"
     ]
    }
   ],
   "source": [
    "mainCaculate()"
   ]
  },
  {
   "cell_type": "markdown",
   "metadata": {},
   "source": [
    "## Problem 8\n",
    "打印图形 "
   ]
  },
  {
   "cell_type": "code",
   "execution_count": 69,
   "metadata": {},
   "outputs": [
    {
     "name": "stdout",
     "output_type": "stream",
     "text": [
      "  *  \n",
      " *** \n",
      "*****\n",
      " *** \n",
      "  *  \n"
     ]
    }
   ],
   "source": [
    "def printPic():\n",
    "    for i in range(1,4):\n",
    "        print(\" \"*(3-i)+\"*\"*(i*2-1)+\" \"*(3-i))   \n",
    "    for i in range(1,3):\n",
    "        print(\" \"*i+\"*\"*((3-i)*2-1)+\" \"*i)\n",
    "printPic()  "
   ]
  },
  {
   "cell_type": "markdown",
   "metadata": {},
   "source": [
    "## Problem 9\n",
    "输出相反数字"
   ]
  },
  {
   "cell_type": "code",
   "execution_count": 8,
   "metadata": {},
   "outputs": [],
   "source": [
    "def reversestr(mystr):\n",
    "    if len(mystr)==0:\n",
    "        return\n",
    "    print(mystr[-1],end=\"\")\n",
    "    reversestr(mystr[:-1])\n",
    "    "
   ]
  },
  {
   "cell_type": "code",
   "execution_count": 9,
   "metadata": {},
   "outputs": [
    {
     "name": "stdout",
     "output_type": "stream",
     "text": [
      "edcba"
     ]
    }
   ],
   "source": [
    "reversestr(\"abcde\")"
   ]
  },
  {
   "cell_type": "markdown",
   "metadata": {},
   "source": [
    "## Problem 10\n",
    "检查回文数"
   ]
  },
  {
   "cell_type": "code",
   "execution_count": 19,
   "metadata": {},
   "outputs": [],
   "source": [
    "def huiwen(x):\n",
    "    if str(x)==str(x)[::-1]:\n",
    "        return True\n",
    "    else:\n",
    "        return False"
   ]
  },
  {
   "cell_type": "code",
   "execution_count": 20,
   "metadata": {},
   "outputs": [
    {
     "data": {
      "text/plain": [
       "True"
      ]
     },
     "execution_count": 20,
     "metadata": {},
     "output_type": "execute_result"
    }
   ],
   "source": [
    "huiwen(12321)"
   ]
  }
 ],
 "metadata": {
  "kernelspec": {
   "display_name": "Python 3.7.3 32-bit",
   "language": "python",
   "name": "python3"
  },
  "language_info": {
   "codemirror_mode": {
    "name": "ipython",
    "version": 3
   },
   "file_extension": ".py",
   "mimetype": "text/x-python",
   "name": "python",
   "nbconvert_exporter": "python",
   "pygments_lexer": "ipython3",
   "version": "3.7.3"
  },
  "orig_nbformat": 4,
  "vscode": {
   "interpreter": {
    "hash": "916dbcbb3f70747c44a77c7bcd40155683ae19c65e1c03b4aa3499c5328201f1"
   }
  }
 },
 "nbformat": 4,
 "nbformat_minor": 2
}
